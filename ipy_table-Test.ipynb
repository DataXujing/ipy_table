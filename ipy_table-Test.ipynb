{
 "cells": [
  {
   "cell_type": "markdown",
   "metadata": {},
   "source": [
    "This set of tests is manually executed today.  These tests will be migrated to py.test and this notebook will be removed."
   ]
  },
  {
   "cell_type": "markdown",
   "metadata": {},
   "source": [
    "### Badly formed array"
   ]
  },
  {
   "cell_type": "code",
   "execution_count": 1,
   "metadata": {},
   "outputs": [
    {
     "name": "stdout",
     "output_type": "stream",
     "text": [
      "Pass\n"
     ]
    }
   ],
   "source": [
    "from ipy_table import *\n",
    "array = [[0, 1, 2], [3, 4]]\n",
    "try:\n",
    "    t = IpyTable(array)\n",
    "except ValueError:\n",
    "    print 'Pass'\n",
    "else:\n",
    "    print 'Fail'"
   ]
  },
  {
   "cell_type": "markdown",
   "metadata": {},
   "source": [
    "### Row range checking"
   ]
  },
  {
   "cell_type": "code",
   "execution_count": 2,
   "metadata": {},
   "outputs": [
    {
     "name": "stdout",
     "output_type": "stream",
     "text": [
      "Pass (Bad row (2).  Expected row in range 0 to 1.)\n"
     ]
    }
   ],
   "source": [
    "array = [[0, 1], [2, 3]]\n",
    "t = IpyTable(array)\n",
    "try:\n",
    "    t.set_cell_style(2, 0, color='red')\n",
    "except ValueError, error_text:\n",
    "    print 'Pass (%s)' % error_text\n",
    "else:\n",
    "    print 'Fail'"
   ]
  },
  {
   "cell_type": "markdown",
   "metadata": {},
   "source": [
    "### Unknown Theme"
   ]
  },
  {
   "cell_type": "code",
   "execution_count": 3,
   "metadata": {},
   "outputs": [
    {
     "name": "stdout",
     "output_type": "stream",
     "text": [
      "Pass (Unknown theme \"monty\". Expected one of ['basic', 'basic_left', 'basic_both'].)\n"
     ]
    }
   ],
   "source": [
    "array = [[0, 1], [2, 3]]\n",
    "t = IpyTable(array)\n",
    "try:\n",
    "    t.apply_theme(\"monty\")\n",
    "except ValueError, error_text:\n",
    "    print 'Pass (%s)' % error_text\n",
    "else:\n",
    "    print 'Fail'"
   ]
  },
  {
   "cell_type": "markdown",
   "metadata": {},
   "source": [
    "### Random Styles"
   ]
  },
  {
   "cell_type": "code",
   "execution_count": 35,
   "metadata": {},
   "outputs": [
    {
     "data": {
      "text/html": [
       "<table border=\"1\" cellpadding=\"3\" cellspacing=\"0\"  style=\"border:black; border-collapse:collapse;\"><tr><td  style=\"background-color:blue;border-top: 1px solid;border-right: 1px solid;border-bottom: 1px solid;border-left: 1px solid;\"><b>0</b></td><td  style=\"border-top: 3px solid;border-right: 1px solid;border-bottom: 1px solid;border-left: 1px solid;\">KY69YSNKP</td></tr><tr><td  style=\"background-color:green;border-top: 1px solid;border-right: 1px solid;border-bottom: 1px solid;border-left: 1px transparent;\"><b>80828.9584</b></td><td  style=\"background-color:red;border-top: 1px solid;border-right: 1px solid;border-bottom: 1px transparent;border-left: 1px solid;\"><b>QV5KOSBPUQH</b></td></tr><tr><td  style=\"background-color:red;border-top: 1px solid;border-right: 1px solid;border-bottom: 1px solid;border-left: 1px transparent;\"><b>6KIWBFLS5JK7E</b></td><td  style=\"background-color:red;border-top: 1px transparent;border-right: 3px solid;border-bottom: 1px solid;border-left: 3px solid;\"><b>GIJI</b></td></tr></table>"
      ],
      "text/plain": [
       "<ipy_table.ipy_table.IpyTable at 0x11094ec10>"
      ]
     },
     "execution_count": 35,
     "metadata": {},
     "output_type": "execute_result"
    }
   ],
   "source": [
    "import random\n",
    "from random import randint\n",
    "import string \n",
    "import ipy_table as ipt\n",
    "\n",
    "width = randint(1,6)\n",
    "height = randint(1,6)\n",
    "array = [[None for column in range(width)] for row in range(height)]\n",
    "for row in range(height):\n",
    "    for column in range(width):\n",
    "        array[row][column] = random.choice([\n",
    "            random.random()*1000000,\n",
    "            ''.join(random.choice(string.ascii_uppercase + string.digits) for x in range(randint(1,14))), \n",
    "            randint(0, 1000000)])\n",
    "make_table(array)\n",
    "for i in range(20):\n",
    "    row = randint(0, height-1)\n",
    "    column = randint(0, width-1)\n",
    "    style = random.choice(['color', 'bold', 'thick_border', 'no_border'])\n",
    "    if style == 'color':\n",
    "        set_cell_style(row, column, color=random.choice(['red', 'blue', 'green']))\n",
    "    elif style == 'bold':\n",
    "        set_cell_style(row, column, bold=True)\n",
    "    elif style == 'thick_border':\n",
    "        set_cell_style(row, column, thick_border=random.choice(['left', 'right', 'top', 'bottom']))\n",
    "    elif style == 'no_border':\n",
    "        set_cell_style(row, column, no_border=random.choice(['left', 'right', 'top', 'bottom']))\n",
    "        \n",
    "ipt.render()"
   ]
  },
  {
   "cell_type": "markdown",
   "metadata": {},
   "source": [
    "### thick_border value checking"
   ]
  },
  {
   "cell_type": "code",
   "execution_count": 5,
   "metadata": {},
   "outputs": [
    {
     "name": "stdout",
     "output_type": "stream",
     "text": [
      "Pass (thick_border must be a string of comma separated border names (e.g. \"left,right\"))\n"
     ]
    }
   ],
   "source": [
    "array = [[0, 1], [2, 3]]\n",
    "t = IpyTable(array)\n",
    "try:\n",
    "    t.set_cell_style(0, 0, thick_border=True)\n",
    "except TypeError, error_text:\n",
    "    print 'Pass (%s)' % error_text\n",
    "else:\n",
    "    print 'Fail'"
   ]
  },
  {
   "cell_type": "code",
   "execution_count": 6,
   "metadata": {},
   "outputs": [
    {
     "name": "stdout",
     "output_type": "stream",
     "text": [
      "Pass (thick_border must be a string of comma separated border names (e.g. \"left,right\"). Valid border names: set(['top', 'right', 'bottom', 'all', 'left']))\n"
     ]
    }
   ],
   "source": [
    "try:\n",
    "    t.set_cell_style(0, 0, thick_border='left + bottom')\n",
    "except ValueError, error_text:\n",
    "    print 'Pass (%s)' % error_text\n",
    "else:\n",
    "    print 'Fail'"
   ]
  },
  {
   "cell_type": "markdown",
   "metadata": {},
   "source": [
    "### no_border value checking"
   ]
  },
  {
   "cell_type": "code",
   "execution_count": 7,
   "metadata": {},
   "outputs": [
    {
     "name": "stdout",
     "output_type": "stream",
     "text": [
      "Pass (no_border must be a string of comma separated border names (e.g. \"left,right\"))\n"
     ]
    }
   ],
   "source": [
    "array = [[0, 1], [2, 3]]\n",
    "t = IpyTable(array)\n",
    "try:\n",
    "    t.set_cell_style(0, 0, no_border=True)\n",
    "except TypeError, error_text:\n",
    "    print 'Pass (%s)' % error_text\n",
    "else:\n",
    "    print 'Fail'"
   ]
  },
  {
   "cell_type": "code",
   "execution_count": 8,
   "metadata": {},
   "outputs": [
    {
     "name": "stdout",
     "output_type": "stream",
     "text": [
      "Pass (no_border must be a string of comma separated border names (e.g. \"left,right\"). Valid border names: set(['top', 'right', 'bottom', 'all', 'left']))\n"
     ]
    }
   ],
   "source": [
    "try:\n",
    "    t.set_cell_style(0, 0, no_border='left + bottom')\n",
    "except ValueError, error_text:\n",
    "    print 'Pass (%s)' % error_text\n",
    "else:\n",
    "    print 'Fail'"
   ]
  },
  {
   "cell_type": "markdown",
   "metadata": {},
   "source": [
    "### Unicode Support"
   ]
  },
  {
   "cell_type": "code",
   "execution_count": 9,
   "metadata": {
    "collapsed": true
   },
   "outputs": [],
   "source": [
    "a=make_table([(u'Unicode Characters: \\xe9\\u03a0\\u03a3', 1),('test2',2)])"
   ]
  },
  {
   "cell_type": "code",
   "execution_count": 10,
   "metadata": {},
   "outputs": [
    {
     "data": {
      "text/plain": [
       "u'<table border=\"1\" cellpadding=\"3\" cellspacing=\"0\"  style=\"border:black; border-collapse:collapse;\"><tr><td  style=\"border-top: 1px solid;border-right: 1px solid;border-bottom: 1px solid;border-left: 1px solid;\">Unicode&nbspCharacters:&nbsp\\xe9\\u03a0\\u03a3</td><td  style=\"border-top: 1px solid;border-right: 1px solid;border-bottom: 1px solid;border-left: 1px solid;\">1</td></tr><tr><td  style=\"border-top: 1px solid;border-right: 1px solid;border-bottom: 1px solid;border-left: 1px solid;\">test2</td><td  style=\"border-top: 1px solid;border-right: 1px solid;border-bottom: 1px solid;border-left: 1px solid;\">2</td></tr></table>'"
      ]
     },
     "execution_count": 10,
     "metadata": {},
     "output_type": "execute_result"
    }
   ],
   "source": [
    "a._repr_html_()"
   ]
  },
  {
   "cell_type": "code",
   "execution_count": 11,
   "metadata": {},
   "outputs": [
    {
     "data": {
      "text/html": [
       "<table border=\"1\" cellpadding=\"3\" cellspacing=\"0\"  style=\"border:black; border-collapse:collapse;\"><tr><td  style=\"border-top: 1px solid;border-right: 1px solid;border-bottom: 1px solid;border-left: 1px solid;\">Unicode&nbspCharacters:&nbspéΠΣ</td><td  style=\"border-top: 1px solid;border-right: 1px solid;border-bottom: 1px solid;border-left: 1px solid;\">1</td></tr><tr><td  style=\"border-top: 1px solid;border-right: 1px solid;border-bottom: 1px solid;border-left: 1px solid;\">test2</td><td  style=\"border-top: 1px solid;border-right: 1px solid;border-bottom: 1px solid;border-left: 1px solid;\">2</td></tr></table>"
      ],
      "text/plain": [
       "<ipy_table.ipy_table.IpyTable at 0x11091b590>"
      ]
     },
     "execution_count": 11,
     "metadata": {},
     "output_type": "execute_result"
    }
   ],
   "source": [
    "a"
   ]
  },
  {
   "cell_type": "code",
   "execution_count": 12,
   "metadata": {},
   "outputs": [
    {
     "data": {
      "text/html": [
       "<table border=\"1\" cellpadding=\"3\" cellspacing=\"0\"  style=\"border:black; border-collapse:collapse;\"><tr><td  style=\"background-color:LightGray;border-top: 1px solid;border-right: 1px solid;border-bottom: 1px solid;border-left: 1px solid;\"><b>Unicode&nbspCharacters:&nbspéΠΣ</b></td><td  style=\"background-color:LightGray;border-top: 1px solid;border-right: 1px solid;border-bottom: 1px solid;border-left: 1px solid;\"><b>1</b></td></tr><tr><td  style=\"background-color:Ivory;border-top: 1px solid;border-right: 1px solid;border-bottom: 1px solid;border-left: 1px solid;\">test2</td><td  style=\"background-color:Ivory;border-top: 1px solid;border-right: 1px solid;border-bottom: 1px solid;border-left: 1px solid;\">2</td></tr></table>"
      ],
      "text/plain": [
       "<ipy_table.ipy_table.IpyTable at 0x11091b590>"
      ]
     },
     "execution_count": 12,
     "metadata": {},
     "output_type": "execute_result"
    }
   ],
   "source": [
    "apply_theme('basic')"
   ]
  },
  {
   "cell_type": "code",
   "execution_count": null,
   "metadata": {
    "collapsed": true
   },
   "outputs": [],
   "source": []
  }
 ],
 "metadata": {
  "kernelspec": {
   "display_name": "Python [default]",
   "language": "python",
   "name": "python2"
  },
  "language_info": {
   "codemirror_mode": {
    "name": "ipython",
    "version": 2
   },
   "file_extension": ".py",
   "mimetype": "text/x-python",
   "name": "python",
   "nbconvert_exporter": "python",
   "pygments_lexer": "ipython2",
   "version": "2.7.13"
  }
 },
 "nbformat": 4,
 "nbformat_minor": 1
}
