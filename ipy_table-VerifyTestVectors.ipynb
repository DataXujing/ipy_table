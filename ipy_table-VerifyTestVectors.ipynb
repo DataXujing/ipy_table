{
 "cells": [
  {
   "cell_type": "markdown",
   "metadata": {},
   "source": [
    "This notebook executes the same test vectors as used by py.test, but runs in a notebook environment (i.e. the test coverage is idential)\n",
    "\n",
    "**IF** vectors fail in pytest, **THEN** this notebook can be manually executed to see what the html differences **LOOK** like. "
   ]
  },
  {
   "cell_type": "code",
   "execution_count": 1,
   "metadata": {},
   "outputs": [],
   "source": [
    "%load_ext autoreload\n",
    "%autoreload 2\n",
    "\n",
    "import os\n",
    "import pprint\n",
    "from IPython.display import display, HTML\n",
    "from ipy_table import VectorManager\n",
    "\n",
    "pp = pprint.PrettyPrinter(indent=4)"
   ]
  },
  {
   "cell_type": "code",
   "execution_count": 2,
   "metadata": {
    "collapsed": true
   },
   "outputs": [],
   "source": [
    "def html_indent(html):\n",
    "    '''Return html wrapped by an indenting div'''\n",
    "    return '<div style=\"margin-left: 35px;\">' + html + '</div>'"
   ]
  },
  {
   "cell_type": "markdown",
   "metadata": {},
   "source": [
    "# Load vectors"
   ]
  },
  {
   "cell_type": "code",
   "execution_count": 3,
   "metadata": {},
   "outputs": [
    {
     "name": "stdout",
     "output_type": "stream",
     "text": [
      "Loaded 24 vectors.\n"
     ]
    }
   ],
   "source": [
    "test_vectors = VectorManager(os.path.join('test', 'test_vectors.json'))\n",
    "print('Loaded {} vectors.'.format(len(test_vectors.vectors)))"
   ]
  },
  {
   "cell_type": "markdown",
   "metadata": {},
   "source": [
    "# Verify Vectors"
   ]
  },
  {
   "cell_type": "code",
   "execution_count": 4,
   "metadata": {
    "scrolled": false
   },
   "outputs": [
    {
     "name": "stdout",
     "output_type": "stream",
     "text": [
      "Running vector 0\n",
      "   Description: Default style\n",
      "   PASS\n",
      "Running vector 1\n",
      "   Description: table.apply_theme(theme_name='basic')\n",
      "   PASS\n",
      "Running vector 2\n",
      "   Description: table.apply_theme(theme_name='basic_left')\n",
      "   PASS\n",
      "Running vector 3\n",
      "   Description: table.apply_theme(theme_name='basic_both')\n",
      "   PASS\n",
      "Running vector 4\n",
      "   Description: table.set_cell_style(color='red', column=1, row=1)\n",
      "   PASS\n",
      "Running vector 5\n",
      "   Description: table.set_row_style(color='lightGreen', row=0)\n",
      "   PASS\n",
      "Running vector 6\n",
      "   Description: table.set_column_style(color='lightBlue', column=1)\n",
      "   PASS\n",
      "Running vector 7\n",
      "   Description: table.set_global_style(color='Pink')\n",
      "   PASS\n",
      "Running vector 8\n",
      "   Description: table.set_row_style(bold=True, row=1)\n",
      "   PASS\n",
      "Running vector 9\n",
      "   Description: table.set_row_style(italic=True, row=1)\n",
      "   PASS\n",
      "Running vector 10\n",
      "   Description: table.set_row_style(color='Orange', row=1)\n",
      "   PASS\n",
      "Running vector 11\n",
      "   Description: Thick border, outer corners\n",
      "   PASS\n",
      "Running vector 12\n",
      "   Description: table.set_row_style(thick_border='all', row=1)\n",
      "   PASS\n",
      "Running vector 13\n",
      "   Description: No border, outer corners\n",
      "   PASS\n",
      "Running vector 14\n",
      "   Description: table.set_row_style(no_border='all', row=1)\n",
      "   PASS\n",
      "Running vector 15\n",
      "   Description: table.set_cell_style(column=0, row_span=3, row=0)\n",
      "   PASS\n",
      "Running vector 16\n",
      "   Description: table.set_cell_style(column=1, column_span=2, row=1)\n",
      "   PASS\n",
      "Running vector 17\n",
      "   Description: table.set_cell_style(column=0, width=100, row=0)\n",
      "   PASS\n",
      "Running vector 18\n",
      "   Description: Alignment (right, center, and left)\n",
      "   PASS\n",
      "Running vector 19\n",
      "   Description: Wrap\n",
      "   PASS\n",
      "Running vector 20\n",
      "   Description: Wrap\n",
      "   PASS\n",
      "Running vector 21\n",
      "   Description: Tabulate, 4 columns, without wrap\n",
      "   PASS\n",
      "Running vector 22\n",
      "   Description: Tabulate, 4 columns, with wrap\n",
      "   PASS\n",
      "Running vector 23\n",
      "   Description: Tabulate, 5 columns, with wrap\n",
      "   PASS\n",
      "24 Passed\n",
      "0 Failed\n"
     ]
    }
   ],
   "source": [
    "pass_count = 0\n",
    "fail_count = 0\n",
    "for index, vector in enumerate(test_vectors.vectors):\n",
    "    print('Running vector {}'.format(index))\n",
    "    print('   Description: {}'.format(vector['description']))\n",
    "    success = test_vectors.run_vector(vector)\n",
    "    if success:\n",
    "        print('   PASS')\n",
    "        pass_count += 1\n",
    "    else:\n",
    "        print('   FAIL')\n",
    "        print('   Vector:')\n",
    "        vector_pp = pp.pformat(vector)\n",
    "        print('\\n'.join(['      ' + ln for ln in vector_pp.splitlines()]))\n",
    "        print('   Expected HTML:')\n",
    "        display(HTML(html_indent(vector['expected_html'])))\n",
    "        print('   Result HTML:')\n",
    "        display(HTML(html_indent(vector['result_html'])))\n",
    "        fail_count += 1\n",
    "print('{} Passed'.format(pass_count))\n",
    "print('{} Failed'.format(fail_count))      "
   ]
  }
 ],
 "metadata": {
  "kernelspec": {
   "display_name": "Python [conda env:python27]",
   "language": "python",
   "name": "conda-env-python27-py"
  },
  "language_info": {
   "codemirror_mode": {
    "name": "ipython",
    "version": 2
   },
   "file_extension": ".py",
   "mimetype": "text/x-python",
   "name": "python",
   "nbconvert_exporter": "python",
   "pygments_lexer": "ipython2",
   "version": "2.7.13"
  }
 },
 "nbformat": 4,
 "nbformat_minor": 2
}
