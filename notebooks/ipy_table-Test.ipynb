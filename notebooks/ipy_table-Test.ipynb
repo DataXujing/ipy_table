{
 "cells": [
  {
   "cell_type": "markdown",
   "metadata": {},
   "source": [
    "# Test"
   ]
  },
  {
   "cell_type": "markdown",
   "metadata": {},
   "source": [
    "This set of tests is manually executed today.  These tests will be migrated to py.test and this notebook will be removed."
   ]
  },
  {
   "cell_type": "code",
   "execution_count": 1,
   "metadata": {
    "collapsed": true
   },
   "outputs": [],
   "source": [
    "import add_parent_to_path"
   ]
  },
  {
   "cell_type": "markdown",
   "metadata": {},
   "source": [
    "### Badly formed array"
   ]
  },
  {
   "cell_type": "code",
   "execution_count": 2,
   "metadata": {},
   "outputs": [
    {
     "name": "stdout",
     "output_type": "stream",
     "text": [
      "Pass\n"
     ]
    }
   ],
   "source": [
    "from ipy_table import *\n",
    "array = [[0, 1, 2], [3, 4]]\n",
    "try:\n",
    "    t = IpyTable(array)\n",
    "except ValueError:\n",
    "    print 'Pass'\n",
    "else:\n",
    "    print 'Fail'"
   ]
  },
  {
   "cell_type": "markdown",
   "metadata": {},
   "source": [
    "### Row range checking"
   ]
  },
  {
   "cell_type": "code",
   "execution_count": 3,
   "metadata": {},
   "outputs": [
    {
     "name": "stdout",
     "output_type": "stream",
     "text": [
      "Pass (Bad row (2).  Expected row in range 0 to 1.)\n"
     ]
    }
   ],
   "source": [
    "array = [[0, 1], [2, 3]]\n",
    "t = IpyTable(array)\n",
    "try:\n",
    "    t.set_cell_style(2, 0, color='red')\n",
    "except ValueError, error_text:\n",
    "    print 'Pass (%s)' % error_text\n",
    "else:\n",
    "    print 'Fail'"
   ]
  },
  {
   "cell_type": "markdown",
   "metadata": {},
   "source": [
    "### Unknown Theme"
   ]
  },
  {
   "cell_type": "code",
   "execution_count": 4,
   "metadata": {},
   "outputs": [
    {
     "name": "stdout",
     "output_type": "stream",
     "text": [
      "Pass (Unknown theme \"monty\". Expected one of ['basic', 'basic_left', 'basic_both'].)\n"
     ]
    }
   ],
   "source": [
    "array = [[0, 1], [2, 3]]\n",
    "t = IpyTable(array)\n",
    "try:\n",
    "    t.apply_theme(\"monty\")\n",
    "except ValueError, error_text:\n",
    "    print 'Pass (%s)' % error_text\n",
    "else:\n",
    "    print 'Fail'"
   ]
  },
  {
   "cell_type": "markdown",
   "metadata": {},
   "source": [
    "### Random Styles"
   ]
  },
  {
   "cell_type": "code",
   "execution_count": 5,
   "metadata": {},
   "outputs": [
    {
     "data": {
      "text/html": [
       "<table border=\"1\" cellpadding=\"3\" cellspacing=\"0\"  style=\"border:black; border-collapse:collapse;\"><tr><td  style=\"border-top: 1px solid;border-right: 1px solid;border-bottom: 1px solid;border-left: 3px solid;\"><b>245665</b></td><td  style=\"border-top: 1px solid;border-right: 1px solid;border-bottom: 1px solid;border-left: 1px solid;\">L1XGLVI</td><td  style=\"background-color:green;border-top: 1px solid;border-right: 1px solid;border-bottom: 1px solid;border-left: 1px solid;\">544947</td><td  style=\"border-top: 1px solid;border-right: 1px transparent;border-bottom: 1px solid;border-left: 1px solid;\">50927.9140</td><td  style=\"border-top: 1px solid;border-right: 1px solid;border-bottom: 1px solid;border-left: 1px transparent;\">EDK5MZR9VCK3</td><td  style=\"border-top: 1px solid;border-right: 1px solid;border-bottom: 1px transparent;border-left: 1px solid;\">42715</td></tr><tr><td  style=\"border-top: 1px solid;border-right: 1px solid;border-bottom: 1px solid;border-left: 1px solid;\">727540.9032</td><td  style=\"border-top: 1px solid;border-right: 1px solid;border-bottom: 1px solid;border-left: 1px solid;\">982393.3803</td><td  style=\"border-top: 1px solid;border-right: 1px transparent;border-bottom: 1px solid;border-left: 1px solid;\">CSXKM2CC0</td><td  style=\"border-top: 1px solid;border-right: 1px solid;border-bottom: 1px solid;border-left: 1px solid;\"><b>C368</b></td><td  style=\"background-color:blue;border-top: 3px solid;border-right: 1px solid;border-bottom: 1px solid;border-left: 1px solid;\">767060</td><td  style=\"border-top: 1px transparent;border-right: 1px solid;border-bottom: 1px solid;border-left: 1px solid;\">740771.3891</td></tr><tr><td  style=\"border-top: 1px solid;border-right: 1px solid;border-bottom: 1px solid;border-left: 1px solid;\">703378</td><td  style=\"border-top: 1px solid;border-right: 1px solid;border-bottom: 1px solid;border-left: 1px solid;\">W5</td><td  style=\"border-top: 3px solid;border-right: 1px solid;border-bottom: 1px transparent;border-left: 1px solid;\">I6MEB4</td><td  style=\"border-top: 1px solid;border-right: 1px solid;border-bottom: 1px solid;border-left: 1px solid;\"><b>313052.8700</b></td><td  style=\"border-top: 3px solid;border-right: 1px solid;border-bottom: 3px solid;border-left: 1px solid;\">OGVGYK3PAAPMIN</td><td  style=\"border-top: 1px solid;border-right: 1px solid;border-bottom: 1px solid;border-left: 1px solid;\">32926</td></tr><tr><td  style=\"border-top: 1px solid;border-right: 1px solid;border-bottom: 1px solid;border-left: 1px solid;\">464622</td><td  style=\"border-top: 1px solid;border-right: 1px solid;border-bottom: 1px solid;border-left: 1px solid;\">69362.3007</td><td  style=\"border-top: 1px solid;border-right: 1px solid;border-bottom: 1px solid;border-left: 3px solid;\">649483</td><td  style=\"border-top: 1px solid;border-right: 1px solid;border-bottom: 1px solid;border-left: 1px solid;\">66F7</td><td  style=\"border-top: 3px solid;border-right: 1px solid;border-bottom: 1px solid;border-left: 1px solid;\">9N8L19X38R</td><td  style=\"border-top: 1px solid;border-right: 1px solid;border-bottom: 1px solid;border-left: 1px solid;\">9NKSWP</td></tr><tr><td  style=\"border-top: 1px solid;border-right: 1px solid;border-bottom: 1px solid;border-left: 1px solid;\">U73</td><td  style=\"border-top: 1px solid;border-right: 1px solid;border-bottom: 1px solid;border-left: 1px solid;\"><b>195878</b></td><td  style=\"border-top: 1px solid;border-right: 1px solid;border-bottom: 1px solid;border-left: 1px solid;\">L1</td><td  style=\"border-top: 1px solid;border-right: 1px solid;border-bottom: 1px solid;border-left: 1px solid;\">332384.1748</td><td  style=\"border-top: 1px solid;border-right: 1px solid;border-bottom: 1px solid;border-left: 1px solid;\">94ANOMO11HC</td><td  style=\"border-top: 1px solid;border-right: 1px solid;border-bottom: 1px solid;border-left: 1px solid;\">605060.1725</td></tr><tr><td  style=\"border-top: 1px solid;border-right: 1px solid;border-bottom: 1px solid;border-left: 1px solid;\">119233.9238</td><td  style=\"border-top: 1px solid;border-right: 1px solid;border-bottom: 1px solid;border-left: 1px solid;\"><b>669088.4642</b></td><td  style=\"border-top: 1px solid;border-right: 1px solid;border-bottom: 1px solid;border-left: 1px solid;\">DV86U0E5VU5PL</td><td  style=\"border-top: 1px solid;border-right: 1px solid;border-bottom: 1px solid;border-left: 1px solid;\"><b>165453.7186</b></td><td  style=\"border-top: 1px solid;border-right: 1px solid;border-bottom: 3px solid;border-left: 1px solid;\">417924</td><td  style=\"border-top: 1px solid;border-right: 1px solid;border-bottom: 1px solid;border-left: 1px solid;\">968145.1539</td></tr></table>"
      ],
      "text/plain": [
       "<ipy_table.ipy_table.IpyTable at 0x10a5f7fd0>"
      ]
     },
     "execution_count": 5,
     "metadata": {},
     "output_type": "execute_result"
    }
   ],
   "source": [
    "import random\n",
    "from random import randint\n",
    "import string \n",
    "import ipy_table as ipt\n",
    "\n",
    "width = randint(1,6)\n",
    "height = randint(1,6)\n",
    "array = [[None for column in range(width)] for row in range(height)]\n",
    "for row in range(height):\n",
    "    for column in range(width):\n",
    "        array[row][column] = random.choice([\n",
    "            random.random()*1000000,\n",
    "            ''.join(random.choice(string.ascii_uppercase + string.digits) for x in range(randint(1,14))), \n",
    "            randint(0, 1000000)])\n",
    "make_table(array)\n",
    "for i in range(20):\n",
    "    row = randint(0, height-1)\n",
    "    column = randint(0, width-1)\n",
    "    style = random.choice(['color', 'bold', 'thick_border', 'no_border'])\n",
    "    if style == 'color':\n",
    "        set_cell_style(row, column, color=random.choice(['red', 'blue', 'green']))\n",
    "    elif style == 'bold':\n",
    "        set_cell_style(row, column, bold=True)\n",
    "    elif style == 'thick_border':\n",
    "        set_cell_style(row, column, thick_border=random.choice(['left', 'right', 'top', 'bottom']))\n",
    "    elif style == 'no_border':\n",
    "        set_cell_style(row, column, no_border=random.choice(['left', 'right', 'top', 'bottom']))\n",
    "        \n",
    "ipt.render()"
   ]
  },
  {
   "cell_type": "markdown",
   "metadata": {},
   "source": [
    "### thick_border value checking"
   ]
  },
  {
   "cell_type": "code",
   "execution_count": 6,
   "metadata": {},
   "outputs": [
    {
     "name": "stdout",
     "output_type": "stream",
     "text": [
      "Pass (thick_border must be a string of comma separated border names (e.g. \"left,right\"))\n"
     ]
    }
   ],
   "source": [
    "array = [[0, 1], [2, 3]]\n",
    "t = IpyTable(array)\n",
    "try:\n",
    "    t.set_cell_style(0, 0, thick_border=True)\n",
    "except TypeError, error_text:\n",
    "    print 'Pass (%s)' % error_text\n",
    "else:\n",
    "    print 'Fail'"
   ]
  },
  {
   "cell_type": "code",
   "execution_count": 7,
   "metadata": {},
   "outputs": [
    {
     "name": "stdout",
     "output_type": "stream",
     "text": [
      "Pass (thick_border must be a string of comma separated border names (e.g. \"left,right\"). Valid border names: set(['top', 'right', 'bottom', 'all', 'left']))\n"
     ]
    }
   ],
   "source": [
    "try:\n",
    "    t.set_cell_style(0, 0, thick_border='left + bottom')\n",
    "except ValueError, error_text:\n",
    "    print 'Pass (%s)' % error_text\n",
    "else:\n",
    "    print 'Fail'"
   ]
  },
  {
   "cell_type": "markdown",
   "metadata": {},
   "source": [
    "### no_border value checking"
   ]
  },
  {
   "cell_type": "code",
   "execution_count": 8,
   "metadata": {},
   "outputs": [
    {
     "name": "stdout",
     "output_type": "stream",
     "text": [
      "Pass (no_border must be a string of comma separated border names (e.g. \"left,right\"))\n"
     ]
    }
   ],
   "source": [
    "array = [[0, 1], [2, 3]]\n",
    "t = IpyTable(array)\n",
    "try:\n",
    "    t.set_cell_style(0, 0, no_border=True)\n",
    "except TypeError, error_text:\n",
    "    print 'Pass (%s)' % error_text\n",
    "else:\n",
    "    print 'Fail'"
   ]
  },
  {
   "cell_type": "code",
   "execution_count": 9,
   "metadata": {},
   "outputs": [
    {
     "name": "stdout",
     "output_type": "stream",
     "text": [
      "Pass (no_border must be a string of comma separated border names (e.g. \"left,right\"). Valid border names: set(['top', 'right', 'bottom', 'all', 'left']))\n"
     ]
    }
   ],
   "source": [
    "try:\n",
    "    t.set_cell_style(0, 0, no_border='left + bottom')\n",
    "except ValueError, error_text:\n",
    "    print 'Pass (%s)' % error_text\n",
    "else:\n",
    "    print 'Fail'"
   ]
  },
  {
   "cell_type": "markdown",
   "metadata": {},
   "source": [
    "### Unicode Support"
   ]
  },
  {
   "cell_type": "code",
   "execution_count": 10,
   "metadata": {
    "collapsed": true
   },
   "outputs": [],
   "source": [
    "a=make_table([(u'Unicode Characters: \\xe9\\u03a0\\u03a3', 1),('test2',2)])"
   ]
  },
  {
   "cell_type": "code",
   "execution_count": 11,
   "metadata": {},
   "outputs": [
    {
     "data": {
      "text/plain": [
       "u'<table border=\"1\" cellpadding=\"3\" cellspacing=\"0\"  style=\"border:black; border-collapse:collapse;\"><tr><td  style=\"border-top: 1px solid;border-right: 1px solid;border-bottom: 1px solid;border-left: 1px solid;\">Unicode&nbspCharacters:&nbsp\\xe9\\u03a0\\u03a3</td><td  style=\"border-top: 1px solid;border-right: 1px solid;border-bottom: 1px solid;border-left: 1px solid;\">1</td></tr><tr><td  style=\"border-top: 1px solid;border-right: 1px solid;border-bottom: 1px solid;border-left: 1px solid;\">test2</td><td  style=\"border-top: 1px solid;border-right: 1px solid;border-bottom: 1px solid;border-left: 1px solid;\">2</td></tr></table>'"
      ]
     },
     "execution_count": 11,
     "metadata": {},
     "output_type": "execute_result"
    }
   ],
   "source": [
    "a._repr_html_()"
   ]
  },
  {
   "cell_type": "code",
   "execution_count": 12,
   "metadata": {},
   "outputs": [
    {
     "data": {
      "text/html": [
       "<table border=\"1\" cellpadding=\"3\" cellspacing=\"0\"  style=\"border:black; border-collapse:collapse;\"><tr><td  style=\"border-top: 1px solid;border-right: 1px solid;border-bottom: 1px solid;border-left: 1px solid;\">Unicode&nbspCharacters:&nbspéΠΣ</td><td  style=\"border-top: 1px solid;border-right: 1px solid;border-bottom: 1px solid;border-left: 1px solid;\">1</td></tr><tr><td  style=\"border-top: 1px solid;border-right: 1px solid;border-bottom: 1px solid;border-left: 1px solid;\">test2</td><td  style=\"border-top: 1px solid;border-right: 1px solid;border-bottom: 1px solid;border-left: 1px solid;\">2</td></tr></table>"
      ],
      "text/plain": [
       "<ipy_table.ipy_table.IpyTable at 0x10a03d5d0>"
      ]
     },
     "execution_count": 12,
     "metadata": {},
     "output_type": "execute_result"
    }
   ],
   "source": [
    "a"
   ]
  },
  {
   "cell_type": "code",
   "execution_count": 13,
   "metadata": {},
   "outputs": [
    {
     "data": {
      "text/html": [
       "<table border=\"1\" cellpadding=\"3\" cellspacing=\"0\"  style=\"border:black; border-collapse:collapse;\"><tr><td  style=\"background-color:LightGray;border-top: 1px solid;border-right: 1px solid;border-bottom: 1px solid;border-left: 1px solid;\"><b>Unicode&nbspCharacters:&nbspéΠΣ</b></td><td  style=\"background-color:LightGray;border-top: 1px solid;border-right: 1px solid;border-bottom: 1px solid;border-left: 1px solid;\"><b>1</b></td></tr><tr><td  style=\"background-color:Ivory;border-top: 1px solid;border-right: 1px solid;border-bottom: 1px solid;border-left: 1px solid;\">test2</td><td  style=\"background-color:Ivory;border-top: 1px solid;border-right: 1px solid;border-bottom: 1px solid;border-left: 1px solid;\">2</td></tr></table>"
      ],
      "text/plain": [
       "<ipy_table.ipy_table.IpyTable at 0x10a03d5d0>"
      ]
     },
     "execution_count": 13,
     "metadata": {},
     "output_type": "execute_result"
    }
   ],
   "source": [
    "apply_theme('basic')"
   ]
  },
  {
   "cell_type": "code",
   "execution_count": null,
   "metadata": {
    "collapsed": true
   },
   "outputs": [],
   "source": []
  }
 ],
 "metadata": {
  "kernelspec": {
   "display_name": "Python [default]",
   "language": "python",
   "name": "python2"
  },
  "language_info": {
   "codemirror_mode": {
    "name": "ipython",
    "version": 2
   },
   "file_extension": ".py",
   "mimetype": "text/x-python",
   "name": "python",
   "nbconvert_exporter": "python",
   "pygments_lexer": "ipython2",
   "version": "2.7.13"
  }
 },
 "nbformat": 4,
 "nbformat_minor": 1
}
